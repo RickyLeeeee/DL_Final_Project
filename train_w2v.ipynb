{
 "cells": [
  {
   "cell_type": "markdown",
   "metadata": {},
   "source": [
    "* 有些起訴書對應的裁判書消失，以 maintext 數量為主\n",
    "* 把所有非空的起訴書用 Ckiptagger 斷詞"
   ]
  },
  {
   "cell_type": "code",
   "execution_count": 11,
   "metadata": {},
   "outputs": [
    {
     "name": "stdout",
     "output_type": "stream",
     "text": [
      "214837 214973\n"
     ]
    }
   ],
   "source": [
    "print(len(maintext), len(facts))"
   ]
  },
  {
   "cell_type": "code",
   "execution_count": 3,
   "metadata": {},
   "outputs": [],
   "source": [
    "# Segmentation\n",
    "\n",
    "import pickle, json, re, time, logging, os\n",
    "import tensorflow as tf\n",
    "from ckiptagger import WS\n",
    "\n",
    "start_time = time.time()\n",
    "\n",
    "tf.compat.v1.logging.set_verbosity(tf.compat.v1.logging.ERROR) # ignore tensorflow warning\n",
    "os.environ[\"CUDA_VISIBLE_DEVICES\"] = '0' # to use gpu\n",
    "config = tf.ConfigProto()\n",
    "config.gpu_options.allow_growth=True\n",
    "sess = tf.Session(config=config) # let keras use only required VRAM\n",
    "ws = WS('./ckip/data')\n",
    "\n",
    "logging.basicConfig(level=logging.DEBUG,\n",
    "                    format=\"%(asctime)s %(message)s\",\n",
    "                    datefmt='%Y-%m-%d %H:%M:%S',\n",
    "                    handlers=[logging.FileHandler('./log/ckiptagger.log', 'w', encoding='utf-8')])\n",
    "\n",
    "with open('facts.json', 'r') as f:\n",
    "    facts = json.load(f)\n",
    "with open('maintext_parsed.json', 'r') as f:\n",
    "    maintext = json.load(f)\n",
    "\n",
    "fact_seg = []\n",
    "ws = WS('./ckip/data')\n",
    "\n",
    "for i, key in enumerate(maintext):\n",
    "    try:\n",
    "        fact = re.sub('\\s', '', facts[key])\n",
    "        fact_seg.append(' '.join(ws([fact])[0]))\n",
    "        if i % 2000 == 0:\n",
    "            logging.debug(\"已處理 %d \" % i)\n",
    "    except:pass\n",
    "logging.debug(\"完成，共處理 %d \" % i)\n",
    "\n",
    "with open('./pkl/fact_seg.pkl', 'wb') as f:\n",
    "    pickle.dump(fact_seg, f)\n",
    "with open('./data/fact_seg.txt', 'w', encoding='utf-8') as f:\n",
    "    for line in fact_seg:\n",
    "        f.write(line+'\\n')\n",
    "        \n",
    "logging.debug(\"--- %s seconds ---\" % (time.time() - start_time))\n",
    "logging.debug('%H:%M:%S', time.gmtime(time.time() - start_time))"
   ]
  },
  {
   "cell_type": "markdown",
   "metadata": {},
   "source": [
    "* 訓練 gensim word2vec"
   ]
  },
  {
   "cell_type": "code",
   "execution_count": 1,
   "metadata": {},
   "outputs": [
    {
     "name": "stdout",
     "output_type": "stream",
     "text": [
      "CPU times: user 3h 35min 17s, sys: 57.5 s, total: 3h 36min 15s\n",
      "Wall time: 56min 2s\n"
     ]
    }
   ],
   "source": [
    "%%time\n",
    "import logging\n",
    "from gensim.models import word2vec\n",
    "\n",
    "logging.basicConfig(level=logging.DEBUG,\n",
    "                    format=\"%(asctime)s %(message)s\",\n",
    "                    datefmt='%Y-%m-%d %H:%M:%S',\n",
    "                    handlers=[logging.FileHandler('./log/wordvec.log', 'w', encoding='utf-8')])\n",
    "\n",
    "sentences = word2vec.LineSentence('./data/fact_seg.txt')\n",
    "model = word2vec.Word2Vec(sentences, size=250, min_count=1, sg=0, iter=100, workers=4, seed=55688)\n",
    "model.save('./data/fact_w2v_cbow.model')"
   ]
  }
 ],
 "metadata": {
  "kernelspec": {
   "display_name": "Python 3",
   "language": "python",
   "name": "python3"
  },
  "language_info": {
   "codemirror_mode": {
    "name": "ipython",
    "version": 3
   },
   "file_extension": ".py",
   "mimetype": "text/x-python",
   "name": "python",
   "nbconvert_exporter": "python",
   "pygments_lexer": "ipython3",
   "version": "3.6.8"
  }
 },
 "nbformat": 4,
 "nbformat_minor": 4
}

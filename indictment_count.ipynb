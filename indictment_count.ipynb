{
 "cells": [
  {
   "cell_type": "markdown",
   "metadata": {},
   "source": [
    "* 紀錄非空的起訴書 non_empty[file_name] = [indictment_key_list]\n",
    "* 紀錄竊盜罪的起訴書 criminal_320[file_name] = [indictment_key_list]\n",
    "* 統計總共起訴書數量\n",
    "* 統計各法條數量"
   ]
  },
  {
   "cell_type": "code",
   "execution_count": 15,
   "metadata": {},
   "outputs": [
    {
     "name": "stdout",
     "output_type": "stream",
     "text": [
      "total files : 23100\n",
      "non-empty files : 6753 \n",
      "actually have : 214914\n",
      "should have : 214973\n",
      "\n",
      "320 files : 3231\n",
      "320 indictment : 18914\n",
      "\n",
      "CPU times: user 2min 15s, sys: 7.04 s, total: 2min 22s\n",
      "Wall time: 4min 12s\n"
     ]
    }
   ],
   "source": [
    "%%time\n",
    "import os, json, pickle\n",
    "import regex as re\n",
    "\n",
    "# transform the word from fullwidth to halfwidth\n",
    "def transFull2Half(string):\n",
    "    ans = ''\n",
    "    for s in string:\n",
    "        inside_code = ord(s)\n",
    "        if (inside_code >= 65281 and inside_code <= 65374):\n",
    "            inside_code -= 65248\n",
    "        ans += chr(inside_code)\n",
    "    return ans\n",
    "\n",
    "indictment_count = 0\n",
    "laws = {}\n",
    "non_empty = {}\n",
    "criminal_320 = {}\n",
    "\n",
    "filelist = os.listdir('/db1/MOJ_indictments_new/indictment_parsed/')\n",
    "law_pattern = '(?:：|。|:|所犯法條|參考法條|違反|另犯|請依|全文|按|再|又|而)+(\\p{Han}*(法|條例)第\\d*條)'\n",
    "\n",
    "for file in filelist:\n",
    "    if file.endswith('.json'):\n",
    "        with open('/db1/MOJ_indictments_new/indictment_parsed/' + file, 'r') as f:\n",
    "            tmp = json.load(f)\n",
    "            \n",
    "            try:\n",
    "                if tmp['query_result'] != []:\n",
    "                    indictment_count += tmp['query_result'][0]['num']\n",
    "\n",
    "                    for key in tmp['details']:\n",
    "                        clean = re.sub('<\\/?(?:div|span|br)[^>]*>|\\s|&nbsp;', '', tmp['details'][key]['fulltext'])\n",
    "                        clean = re.search('(?:書記官|檢察官)(.*)(。附表)?', clean).group(1)\n",
    "                        result = [match.group(1) for match in re.finditer(law_pattern, clean)]\n",
    "\n",
    "                        # count for each law\n",
    "                        for law in result:\n",
    "                            law = transFull2Half(law)\n",
    "                            if re.search('^刑法', law): law = '中華民國' + law\n",
    "                            laws[law] = laws.get(law, 0) + 1\n",
    "\n",
    "                            if law == '中華民國刑法第320條': \n",
    "                                if file not in criminal_320.keys(): criminal_320[file] = []\n",
    "                                criminal_320[file].append(key)\n",
    "\n",
    "                        if file not in non_empty.keys(): non_empty[file] = []\n",
    "                        non_empty[file].append(key)\n",
    "            except:\n",
    "                continue\n",
    "\n",
    "with open('./pkl/non_empty.pkl', 'wb') as f:\n",
    "    pickle.dump(non_empty, f)\n",
    "with open('./pkl/criminal_320.pkl', 'wb') as f:\n",
    "    pickle.dump(criminal_320, f)\n",
    "with open('./pkl/laws_count.pkl', 'wb') as f:\n",
    "    pickle.dump(laws, f)\n",
    "    \n",
    "print(\n",
    "f\"\"\"total files : {len(filelist)}\n",
    "non-empty files : {len(non_empty)} \n",
    "actually have : {sum([len(v) for k,v in non_empty.items()])}\n",
    "should have : {indictment_count}\n",
    "\n",
    "320 files : {len(criminal_320)}\n",
    "320 indictment : {sum([len(v) for k,v in criminal_320.items()])}\n",
    "\"\"\"\n",
    ")"
   ]
  },
  {
   "cell_type": "code",
   "execution_count": 2,
   "metadata": {},
   "outputs": [
    {
     "name": "stdout",
     "output_type": "stream",
     "text": [
      "('中華民國刑法第185條', 62186)\n",
      "('中華民國刑法第47條', 56157)\n",
      "('毒品危害防制條例第10條', 43194)\n",
      "('中華民國刑法第38條', 30395)\n",
      "('中華民國刑法第320條', 18914)\n",
      "('中華民國刑法第339條', 18154)\n",
      "('中華民國刑法第284條', 15662)\n",
      "('中華民國刑法第55條', 11694)\n",
      "('毒品危害防制條例第18條', 10098)\n",
      "('中華民國刑法第30條', 8380)\n"
     ]
    }
   ],
   "source": [
    "import pickle\n",
    "with open('./pkl/laws_count.pkl', 'rb') as f:\n",
    "    laws = pickle.load(f)\n",
    "sorted_laws = sorted(laws.items(), key=lambda kv:kv[1], reverse=True)\n",
    "for law in sorted_laws[:10]:\n",
    "    print(law)"
   ]
  }
 ],
 "metadata": {
  "kernelspec": {
   "display_name": "Python 3",
   "language": "python",
   "name": "python3"
  },
  "language_info": {
   "codemirror_mode": {
    "name": "ipython",
    "version": 3
   },
   "file_extension": ".py",
   "mimetype": "text/x-python",
   "name": "python",
   "nbconvert_exporter": "python",
   "pygments_lexer": "ipython3",
   "version": "3.6.8"
  }
 },
 "nbformat": 4,
 "nbformat_minor": 4
}
